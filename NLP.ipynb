{
  "nbformat": 4,
  "nbformat_minor": 0,
  "metadata": {
    "colab": {
      "provenance": []
    },
    "kernelspec": {
      "name": "python3",
      "display_name": "Python 3"
    },
    "language_info": {
      "name": "python"
    }
  },
  "cells": [
    {
      "cell_type": "code",
      "execution_count": 7,
      "metadata": {
        "id": "pk_6AptXHDSV"
      },
      "outputs": [],
      "source": [
        "# Importing NLTK library, corpus and tagger\n",
        "import nltk\n",
        "from nltk.corpus import indian\n",
        "from nltk.tag import tnt\n",
        "import string"
      ]
    },
    {
      "cell_type": "code",
      "source": [
        "# Downloading Indian Languages Corpora which consists Hindi, Bangla, Marathi and Telugu corpus respectively\n",
        "nltk.download(\"indian\")\n",
        "# Downloading Tokenizers\n",
        "nltk.download(\"punkt\")"
      ],
      "metadata": {
        "colab": {
          "base_uri": "https://localhost:8080/"
        },
        "id": "6MNH6XHCHqnP",
        "outputId": "e0412721-ae1c-45a3-9a29-15f5b69323f5"
      },
      "execution_count": 8,
      "outputs": [
        {
          "output_type": "stream",
          "name": "stderr",
          "text": [
            "[nltk_data] Downloading package indian to /root/nltk_data...\n",
            "[nltk_data]   Package indian is already up-to-date!\n",
            "[nltk_data] Downloading package punkt to /root/nltk_data...\n",
            "[nltk_data]   Package punkt is already up-to-date!\n"
          ]
        },
        {
          "output_type": "execute_result",
          "data": {
            "text/plain": [
              "True"
            ]
          },
          "metadata": {},
          "execution_count": 8
        }
      ]
    },
    {
      "cell_type": "code",
      "source": [
        "True"
      ],
      "metadata": {
        "colab": {
          "base_uri": "https://localhost:8080/"
        },
        "id": "zvMMxR0xHzHV",
        "outputId": "99a7a046-6008-4771-d5ac-83b49af8297b"
      },
      "execution_count": 9,
      "outputs": [
        {
          "output_type": "execute_result",
          "data": {
            "text/plain": [
              "True"
            ]
          },
          "metadata": {},
          "execution_count": 9
        }
      ]
    },
    {
      "cell_type": "code",
      "source": [
        "# Training the POS Tagger Model using Hindi dataset\n",
        "def train():\n",
        "    taggedSet = \"hindi.pos\"\n",
        "    wordSet = indian.sents(taggedSet)\n",
        "    count = 0\n",
        "\n",
        "    # Joining dataset words to form a sentence\n",
        "    for sen in wordSet:\n",
        "        count = count + 1\n",
        "        sen = \"\".join(\n",
        "            [\n",
        "                \" \" + i if not i.startswith(\"'\") and i not in string.punctuation else i\n",
        "                for i in sen\n",
        "            ]\n",
        "        ).strip()\n",
        "        # Viewing individual corpus sentence\n",
        "        # print(count, sen, \"sentences\")\n",
        "\n",
        "    # Total Sentence Count\n",
        "    print(\"Total sentences in the tagged file are\", count)\n",
        "\n",
        "    # Spliting dataset into Training Data and Test Data\n",
        "    trainPerc = 0.9\n",
        "\n",
        "    # Assigning the last index for Training Data and first index of Test Data\n",
        "    trainRows = int(trainPerc * count)\n",
        "    testRows = trainRows + 1\n",
        "\n",
        "    # Slicing the corpus\n",
        "    data = indian.tagged_sents(taggedSet)\n",
        "    train_data = data[:trainRows]\n",
        "    test_data = data[testRows:]\n",
        "\n",
        "    # Stats\n",
        "    print(\"Training dataset length: \", len(train_data))\n",
        "    print(\"Testing dataset length: \", len(test_data))\n",
        "    pos_tagger = tnt.TnT()\n",
        "    pos_tagger.train(train_data)\n",
        "    print(\"Accuracy: \", pos_tagger.evaluate(test_data))\n",
        "\n",
        "    return pos_tagger"
      ],
      "metadata": {
        "id": "VozpRUw2H-Fk"
      },
      "execution_count": 4,
      "outputs": []
    },
    {
      "cell_type": "code",
      "source": [
        "# Tagging function to tag all words in a sentence\n",
        "def tagger(pos_tagger, sentenceToBeTagged):\n",
        "    tokenized = nltk.word_tokenize(sentenceToBeTagged)\n",
        "    return pos_tagger.tag(tokenized)"
      ],
      "metadata": {
        "id": "D-nlEwDJIKZw"
      },
      "execution_count": 5,
      "outputs": []
    },
    {
      "cell_type": "code",
      "source": [],
      "metadata": {
        "id": "dAeD4BxEISRG"
      },
      "execution_count": null,
      "outputs": []
    },
    {
      "cell_type": "code",
      "source": [
        "# Main Driving Module\n",
        "if __name__ == \"__main__\":\n",
        "    pos_tagger = train()\n",
        "    sentence_to_be_tagged = \"प्रधानमंत्री की सिफारिश पर मंत्रियों के एक पैनल का गठन किया गया था ।\"\n",
        "    print(tagger(pos_tagger, sentence_to_be_tagged))"
      ],
      "metadata": {
        "colab": {
          "base_uri": "https://localhost:8080/"
        },
        "id": "AGWEe9vSIOn2",
        "outputId": "0d18bba5-8f04-476d-e357-c9d56c2b78c1"
      },
      "execution_count": 6,
      "outputs": [
        {
          "output_type": "stream",
          "name": "stdout",
          "text": [
            "Total sentences in the tagged file are 540\n",
            "Training dataset length:  486\n",
            "Testing dataset length:  53\n"
          ]
        },
        {
          "output_type": "stream",
          "name": "stderr",
          "text": [
            "<ipython-input-4-537f56bcd405>:39: DeprecationWarning: \n",
            "  Function evaluate() has been deprecated.  Use accuracy(gold)\n",
            "  instead.\n",
            "  print(\"Accuracy: \", pos_tagger.evaluate(test_data))\n"
          ]
        },
        {
          "output_type": "stream",
          "name": "stdout",
          "text": [
            "Accuracy:  0.8111964873765093\n",
            "[('प्रधानमंत्री', 'NN'), ('की', 'PREP'), ('सिफारिश', 'NN'), ('पर', 'PREP'), ('मंत्रियों', 'NN'), ('के', 'PREP'), ('एक', 'QFNUM'), ('पैनल', 'NN'), ('का', 'PREP'), ('गठन', 'NVB'), ('किया', 'VFM'), ('गया', 'VAUX'), ('था', 'VAUX'), ('।', 'PUNC')]\n"
          ]
        }
      ]
    }
  ]
}